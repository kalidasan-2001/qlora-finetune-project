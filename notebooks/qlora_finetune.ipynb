{
 "cells": [
  {
   "cell_type": "markdown",
   "metadata": {},
   "source": [
    "# QLoRA Fine-Tuning\n",
    "\n",
    "This notebook provides an interactive environment for experimenting with QLoRA fine-tuning. It includes code snippets for loading the dataset, configuring the model, and running the training process."
   ]
  },
  {
   "cell_type": "code",
   "execution_count": null,
   "metadata": {
    "id": "import-libraries"
   },
   "outputs": [],
   "source": [
    "import os\n",
    "import yaml\n",
    "import json\n",
    "import torch\n",
    "from src.training.dataset import DatasetLoader\n",
    "from src.training.run_qlora import train_model\n",
    "from src.config.qlora_config import QLoRAConfig\n",
    "from src.config.peft_config import PEFTConfig\n"
   ]
  },
  {
   "cell_type": "code",
   "execution_count": null,
   "metadata": {
    "id": "load-configs"
   },
   "outputs": [],
   "source": [
    "# Load configurations\n",
    "with open('src/config/qlora_config.yaml', 'r') as file:\n",
    "    qlora_config = yaml.safe_load(file)\n",
    "\n",
    "with open('src/config/peft_config.json', 'r') as file:\n",
    "    peft_config = json.load(file)\n"
   ]
  },
  {
   "cell_type": "code",
   "execution_count": null,
   "metadata": {
    "id": "prepare-dataset"
   },
   "outputs": [],
   "source": [
    "# Prepare the dataset\n",
    "dataset_loader = DatasetLoader(qlora_config['dataset_path'])\n",
    "train_dataset = dataset_loader.load_data()\n"
   ]
  },
  {
   "cell_type": "code",
   "execution_count": null,
   "metadata": {
    "id": "train-model"
   },
   "outputs": [],
   "source": [
    "# Train the model\n",
    "device = torch.device('cuda' if torch.cuda.is_available() else 'cpu')\n",
    "model = train_model(train_dataset, qlora_config, peft_config, device)\n"
   ]
  },
  {
   "cell_type": "markdown",
   "metadata": {},
   "source": [
    "## Inference\n",
    "\n",
    "After training, you can run inference using the trained model."
   ]
  },
  {
   "cell_type": "code",
   "execution_count": null,
   "metadata": {
    "id": "run-inference"
   },
   "outputs": [],
   "source": [
    "# Inference example\n",
    "input_prompt = \"What is the capital of France?\"\n",
    "response = model.generate(input_prompt)\n",
    "print(response)\n"
   ]
  }
 ],
 "metadata": {
  "kernelspec": {
   "display_name": "Python 3",
   "language": "python",
   "name": "python3"
  },
  "language_info": {
   "codemirror_mode": {
    "name": "ipython",
    "version": 3
   },
   "file_extension": ".py",
   "mimetype": "text/x-python",
   "name": "python",
   "nbconvert_exporter": "python",
   "pygments_lexer": "ipython3",
   "version": "3.8.5"
  }
 },
 "nbformat": 4,
 "nbformat_minor": 4
}